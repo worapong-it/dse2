{
  "nbformat": 4,
  "nbformat_minor": 0,
  "metadata": {
    "colab": {
      "name": "OUTLINE_group10_DSE2_week1_us_election2020.ipynb",
      "provenance": [],
      "toc_visible": true,
      "authorship_tag": "ABX9TyPECnLMACpsYttMeZcOpOqH"
    },
    "kernelspec": {
      "name": "python3",
      "display_name": "Python 3"
    }
  },
  "cells": [
    {
      "cell_type": "markdown",
      "metadata": {
        "id": "R0LgfYaNRvSo"
      },
      "source": [
        "# เลือกตั้งเมกาบางนา2020"
      ]
    },
    {
      "cell_type": "markdown",
      "metadata": {
        "id": "cB4Y0C0tVZl3"
      },
      "source": [
        "DSE2 : Data Science Essential #2\n",
        "---\n",
        "Homework week1 (Due 24NOV2020)\n"
      ]
    },
    {
      "cell_type": "markdown",
      "metadata": {
        "id": "nNLEwMg4-ZDI"
      },
      "source": [
        "## BACKGROUND"
      ]
    },
    {
      "cell_type": "markdown",
      "metadata": {
        "id": "-0JUEFK2mbXs"
      },
      "source": [
        "เกริ่นว่าทำไมถึงทำเรื่องนี้ ......"
      ]
    },
    {
      "cell_type": "markdown",
      "metadata": {
        "id": "ITbQdPnwPNy9"
      },
      "source": [
        "หัวข้อที่เราจะมาวิเคราะห์คือข้อมูลปัจจัยต่างๆ refugee, gdp, population by race, poverty ..... โดยดูจาก ....... เทียบกับผลลัพธ์การโหวตปี 2016 กับ 2020\n",
        "\n",
        "โดยเปรียบเทียบระหว่างช่วงปี 2013-2016 (โอบาม่า) กับปี 2017-2020 (ทรัมป์)"
      ]
    },
    {
      "cell_type": "code",
      "metadata": {
        "id": "V1b-h-I9nqpB"
      },
      "source": [
        ""
      ],
      "execution_count": null,
      "outputs": []
    },
    {
      "cell_type": "markdown",
      "metadata": {
        "id": "OyZ7HZe5Q-p_"
      },
      "source": [
        "## dataset\n",
        "- Refugee - Number of annual ceiling and actual admitted of refugees (focus on year 2013-2020)  https://raw.githubusercontent.com/worapong-it/dse2/main/Refugee-Admissions_2020.csv\n",
        "- GDP - US GDP by states (focus on year 2012-2019)\n",
        "https://raw.githubusercontent.com/worapong-it/dse2/main/gdp_raw.csv"
      ]
    },
    {
      "cell_type": "code",
      "metadata": {
        "id": "mVaB9TNiReot"
      },
      "source": [
        ""
      ],
      "execution_count": null,
      "outputs": []
    },
    {
      "cell_type": "code",
      "metadata": {
        "id": "fCNsB1PIQxj8"
      },
      "source": [
        ""
      ],
      "execution_count": null,
      "outputs": []
    },
    {
      "cell_type": "markdown",
      "metadata": {
        "id": "u9ANdByl2MmZ"
      },
      "source": [
        "# IMPORT LIBRARIES"
      ]
    },
    {
      "cell_type": "code",
      "metadata": {
        "id": "oHTAmnzKumNg"
      },
      "source": [
        "import pandas as pd\n",
        "import matplotlib.pyplot as plt\n",
        "import seaborn as sns"
      ],
      "execution_count": 2,
      "outputs": []
    },
    {
      "cell_type": "code",
      "metadata": {
        "id": "4wWKm7pIFh__"
      },
      "source": [
        "pd.set_option(\"display.max_rows\", 6)\n",
        "\n",
        "sns.set_theme(style='whitegrid')\n",
        "\n",
        "#%config InlineBackend.figure_format = 'retina'"
      ],
      "execution_count": 3,
      "outputs": []
    },
    {
      "cell_type": "code",
      "metadata": {
        "colab": {
          "base_uri": "https://localhost:8080/"
        },
        "id": "uqL5k2EvxhL5",
        "outputId": "cd115b2a-b459-4f58-a82a-8f0ca3761995"
      },
      "source": [
        "!ls"
      ],
      "execution_count": null,
      "outputs": [
        {
          "output_type": "stream",
          "text": [
            "sample_data\n"
          ],
          "name": "stdout"
        }
      ]
    },
    {
      "cell_type": "markdown",
      "metadata": {
        "id": "ZIZSNagS_1ip"
      },
      "source": [
        "# US Election Result by states"
      ]
    },
    {
      "cell_type": "code",
      "metadata": {
        "id": "-GekPY3P_wSV"
      },
      "source": [
        "issues\n",
        "- รัฐฐานเสียง โหวตพรรคเดิมตลอด (ดูจากใน wiki)\n",
        "- swing state เปลี่ยนเพราะอะไร, ไม่เปลี่ยนเพราะอะไร\n",
        "- ข้อมูลที่ขาดหาย (Nan)"
      ],
      "execution_count": null,
      "outputs": []
    },
    {
      "cell_type": "markdown",
      "metadata": {
        "id": "P-TowmczodY8"
      },
      "source": [
        "- เนื่องจากรัฐหลายๆรัฐจะเลือกโหวตพรรคเดิมตลอดไม่ว่าจะเกิดอะไรขึ้น เพราะฉะนั้นจะคำนวณใหม่\n",
        "- ทำการแปลงข้อมูลผลโหวตปี 2016 กับปี 2020 ไปเป็นผลลัพธ์ว่ารัฐไหนคะแนนนิยมพรรค democrat เพิ่มขึ้น (ฟ้า) กับนิยม republican เพิ่มขึ้น (แดง)\n",
        "- มีประเด็นว่ามีรัฐไหนคะแนนนิยมเพิ่มทั้งสองพรรคมั้ย หรือนิยมลดลงทั้งสองพรรค หรือควรทำเป็นหลายระดับมั้ย\n"
      ]
    },
    {
      "cell_type": "code",
      "metadata": {
        "id": "cl6fBhssqU6S"
      },
      "source": [
        ""
      ],
      "execution_count": null,
      "outputs": []
    },
    {
      "cell_type": "markdown",
      "metadata": {
        "id": "1gFyGUNb2Wm9"
      },
      "source": [
        "# REFUGEE"
      ]
    },
    {
      "cell_type": "markdown",
      "metadata": {
        "id": "LcdmL3Nr3c-7"
      },
      "source": [
        "## Intro"
      ]
    },
    {
      "cell_type": "markdown",
      "metadata": {
        "id": "azpL8rbd3nBu"
      },
      "source": [
        "เนื่องจากนโยบายของฝั่ง Trump (Republican) มีประเด็นเรื่องการให้ความสำคัญกับพลเมืองอเมริกันมาก และมีนโยบายกีดกันชาวต่างชาติ"
      ]
    },
    {
      "cell_type": "markdown",
      "metadata": {
        "id": "jqcmGAYf9ZtS"
      },
      "source": [
        "## Prepare data"
      ]
    },
    {
      "cell_type": "code",
      "metadata": {
        "id": "y0Hlls05u1rH",
        "colab": {
          "base_uri": "https://localhost:8080/",
          "height": 287
        },
        "outputId": "9c17d06d-7722-4099-c43d-c30dcab69447"
      },
      "source": [
        "url = 'https://raw.githubusercontent.com/worapong-it/dse2/main/Refugee-Admissions_2020.csv'\n",
        "df = pd.read_csv(url)\n",
        "df"
      ],
      "execution_count": 4,
      "outputs": [
        {
          "output_type": "execute_result",
          "data": {
            "text/html": [
              "<div>\n",
              "<style scoped>\n",
              "    .dataframe tbody tr th:only-of-type {\n",
              "        vertical-align: middle;\n",
              "    }\n",
              "\n",
              "    .dataframe tbody tr th {\n",
              "        vertical-align: top;\n",
              "    }\n",
              "\n",
              "    .dataframe thead th {\n",
              "        text-align: right;\n",
              "    }\n",
              "</style>\n",
              "<table border=\"1\" class=\"dataframe\">\n",
              "  <thead>\n",
              "    <tr style=\"text-align: right;\">\n",
              "      <th></th>\n",
              "      <th>Year</th>\n",
              "      <th>Annual Ceiling</th>\n",
              "      <th>Number of Admitted Refugees</th>\n",
              "    </tr>\n",
              "  </thead>\n",
              "  <tbody>\n",
              "    <tr>\n",
              "      <th>0</th>\n",
              "      <td>1980</td>\n",
              "      <td>231700</td>\n",
              "      <td>207116</td>\n",
              "    </tr>\n",
              "    <tr>\n",
              "      <th>1</th>\n",
              "      <td>1981</td>\n",
              "      <td>217000</td>\n",
              "      <td>159252</td>\n",
              "    </tr>\n",
              "    <tr>\n",
              "      <th>2</th>\n",
              "      <td>1982</td>\n",
              "      <td>140000</td>\n",
              "      <td>98096</td>\n",
              "    </tr>\n",
              "    <tr>\n",
              "      <th>...</th>\n",
              "      <td>...</td>\n",
              "      <td>...</td>\n",
              "      <td>...</td>\n",
              "    </tr>\n",
              "    <tr>\n",
              "      <th>38</th>\n",
              "      <td>2018</td>\n",
              "      <td>45000</td>\n",
              "      <td>22517</td>\n",
              "    </tr>\n",
              "    <tr>\n",
              "      <th>39</th>\n",
              "      <td>2019</td>\n",
              "      <td>30000</td>\n",
              "      <td>30000</td>\n",
              "    </tr>\n",
              "    <tr>\n",
              "      <th>40</th>\n",
              "      <td>2020</td>\n",
              "      <td>18000</td>\n",
              "      <td>11841</td>\n",
              "    </tr>\n",
              "  </tbody>\n",
              "</table>\n",
              "<p>41 rows × 3 columns</p>\n",
              "</div>"
            ],
            "text/plain": [
              "    Year  Annual Ceiling  Number of Admitted Refugees\n",
              "0   1980          231700                       207116\n",
              "1   1981          217000                       159252\n",
              "2   1982          140000                        98096\n",
              "..   ...             ...                          ...\n",
              "38  2018           45000                        22517\n",
              "39  2019           30000                        30000\n",
              "40  2020           18000                        11841\n",
              "\n",
              "[41 rows x 3 columns]"
            ]
          },
          "metadata": {
            "tags": []
          },
          "execution_count": 4
        }
      ]
    },
    {
      "cell_type": "code",
      "metadata": {
        "colab": {
          "base_uri": "https://localhost:8080/"
        },
        "id": "tBc49_5O7Wmc",
        "outputId": "13062b27-fea3-49c6-e83a-0886b8fc4a55"
      },
      "source": [
        "df.info()"
      ],
      "execution_count": 5,
      "outputs": [
        {
          "output_type": "stream",
          "text": [
            "<class 'pandas.core.frame.DataFrame'>\n",
            "RangeIndex: 41 entries, 0 to 40\n",
            "Data columns (total 3 columns):\n",
            " #   Column                       Non-Null Count  Dtype\n",
            "---  ------                       --------------  -----\n",
            " 0   Year                         41 non-null     int64\n",
            " 1   Annual Ceiling               41 non-null     int64\n",
            " 2   Number of Admitted Refugees  41 non-null     int64\n",
            "dtypes: int64(3)\n",
            "memory usage: 1.1 KB\n"
          ],
          "name": "stdout"
        }
      ]
    },
    {
      "cell_type": "markdown",
      "metadata": {
        "id": "FOQdyCG42Tb8"
      },
      "source": [
        "## Chart"
      ]
    },
    {
      "cell_type": "markdown",
      "metadata": {
        "id": "1NGjzDFO4VA8"
      },
      "source": [
        "นำข้อมูลในตาราง .... ซื่งมีข้อมูลดังนี้\n",
        "Year - ปี ค.ศ. โดยพรรค Democrat บริหาร\n",
        "Annual Ceiling -\n",
        "Number of Admitted Refugees - "
      ]
    },
    {
      "cell_type": "code",
      "metadata": {
        "colab": {
          "base_uri": "https://localhost:8080/",
          "height": 268
        },
        "id": "EFPxCRAZygc4",
        "outputId": "12e01852-de5a-4b99-e4bb-5eb5d697345f"
      },
      "source": [
        "x = df['Year'][33:].astype(int)\n",
        "y = df['Annual Ceiling'][33:]\n",
        "plt.plot(x, y);"
      ],
      "execution_count": 6,
      "outputs": [
        {
          "output_type": "display_data",
          "data": {
            "image/png": "[encoded data removed]",
            "text/plain": [
              "<Figure size 432x288 with 1 Axes>"
            ]
          },
          "metadata": {
            "tags": []
          }
        }
      ]
    },
    {
      "cell_type": "code",
      "metadata": {
        "id": "1aU6ttUY0hD7"
      },
      "source": [
        ""
      ],
      "execution_count": null,
      "outputs": []
    },
    {
      "cell_type": "markdown",
      "metadata": {
        "id": "dtF4QVP52hqw"
      },
      "source": [
        "## Summary"
      ]
    },
    {
      "cell_type": "markdown",
      "metadata": {
        "id": "zkkMDWoM_qm1"
      },
      "source": [
        "- "
      ]
    },
    {
      "cell_type": "markdown",
      "metadata": {
        "id": "UgNKKGF82rZw"
      },
      "source": [
        "# GDP"
      ]
    },
    {
      "cell_type": "markdown",
      "metadata": {
        "id": "Vwi_TktRpnHO"
      },
      "source": [
        "## Highlight"
      ]
    },
    {
      "cell_type": "markdown",
      "metadata": {
        "id": "5PV9x1XW3Y8w"
      },
      "source": [
        "prepare data\n",
        "- เอาตารางไฟล์ gdp มาใช้\n",
        "- เลือกใช้เฉพาะปี 2012-2019 (ไม่มีปี 2020, ปี 2012 ใช้ดู gdp growth ของปี 2013)\n",
        "- ตัดแถวที่ไม่ใช่ real gdp ออกไป\n",
        "- ตัดแถวที่ไม่ใช่รัฐ (เช่น Far west) แต่เอาแถวของ united state (ประเทศ)\n",
        "- สร้าง data ใหม่ให้เป็น %growth ของ gdp"
      ]
    },
    {
      "cell_type": "markdown",
      "metadata": {
        "id": "dfMlONUsJWPo"
      },
      "source": [
        "วิเคราะห์\n",
        "- ดูว่ารัฐไหน 4 ปี %growth เป็นเท่าไหร่ แล้วเทียบช่วงปีของ obama vs trump\n",
        "- ดูว่าผลที่ได้กับคะแนนโหวตแต่ละรัฐสอดคล้องกันมั้ย\n",
        "- แยกเป็นกราฟแนวนอน 50 รัฐ แยกเป็นสีแดงกับฟ้า (โหวต trump, biden 2020) ดูว่าผลโหวตมีแนวโน้มตรงกับค่า %growth ที่เพิ่มขึ้นหรือลดลงอย่างมีนัยสำคัญหรือไม่?"
      ]
    },
    {
      "cell_type": "markdown",
      "metadata": {
        "id": "DXBec2pGpsc4"
      },
      "source": [
        "## Prepare data"
      ]
    },
    {
      "cell_type": "code",
      "metadata": {
        "colab": {
          "base_uri": "https://localhost:8080/",
          "height": 791
        },
        "id": "NX0u-reZqhI4",
        "outputId": "bf0d093d-73fa-4af5-b3f8-aad7f0aab353"
      },
      "source": [
        "# load data from url & quick view the data\n",
        "url = 'https://raw.githubusercontent.com/worapong-it/dse2/main/gdp_raw.csv'\n",
        "df = pd.read_csv(url)\n",
        "df"
      ],
      "execution_count": 7,
      "outputs": [
        {
          "output_type": "execute_result",
          "data": {
            "text/html": [
              "<div>\n",
              "<style scoped>\n",
              "    .dataframe tbody tr th:only-of-type {\n",
              "        vertical-align: middle;\n",
              "    }\n",
              "\n",
              "    .dataframe tbody tr th {\n",
              "        vertical-align: top;\n",
              "    }\n",
              "\n",
              "    .dataframe thead th {\n",
              "        text-align: right;\n",
              "    }\n",
              "</style>\n",
              "<table border=\"1\" class=\"dataframe\">\n",
              "  <thead>\n",
              "    <tr style=\"text-align: right;\">\n",
              "      <th></th>\n",
              "      <th>GeoFIPS</th>\n",
              "      <th>GeoName</th>\n",
              "      <th>Region</th>\n",
              "      <th>TableName</th>\n",
              "      <th>LineCode</th>\n",
              "      <th>IndustryClassification</th>\n",
              "      <th>Description</th>\n",
              "      <th>Unit</th>\n",
              "      <th>1997</th>\n",
              "      <th>1998</th>\n",
              "      <th>1999</th>\n",
              "      <th>2000</th>\n",
              "      <th>2001</th>\n",
              "      <th>2002</th>\n",
              "      <th>2003</th>\n",
              "      <th>2004</th>\n",
              "      <th>2005</th>\n",
              "      <th>2006</th>\n",
              "      <th>2007</th>\n",
              "      <th>2008</th>\n",
              "      <th>2009</th>\n",
              "      <th>2010</th>\n",
              "      <th>2011</th>\n",
              "      <th>2012</th>\n",
              "      <th>2013</th>\n",
              "      <th>2014</th>\n",
              "      <th>2015</th>\n",
              "      <th>2016</th>\n",
              "      <th>2017</th>\n",
              "      <th>2018</th>\n",
              "      <th>2019</th>\n",
              "    </tr>\n",
              "  </thead>\n",
              "  <tbody>\n",
              "    <tr>\n",
              "      <th>0</th>\n",
              "      <td>\"00000\"</td>\n",
              "      <td>United States</td>\n",
              "      <td></td>\n",
              "      <td>SAGDP1</td>\n",
              "      <td>1.0</td>\n",
              "      <td>...</td>\n",
              "      <td>Real GDP (millions of chained 2012 dollars)</td>\n",
              "      <td>Millions of chained 2012 dollars</td>\n",
              "      <td>1.152194e+07</td>\n",
              "      <td>1.203828e+07</td>\n",
              "      <td>1.261049e+07</td>\n",
              "      <td>13130987.00</td>\n",
              "      <td>13262079.00</td>\n",
              "      <td>1.349306e+07</td>\n",
              "      <td>1.387913e+07</td>\n",
              "      <td>1.440638e+07</td>\n",
              "      <td>14912509.00</td>\n",
              "      <td>1.533826e+07</td>\n",
              "      <td>1.562603e+07</td>\n",
              "      <td>1.560469e+07</td>\n",
              "      <td>1.520883e+07</td>\n",
              "      <td>1.559875e+07</td>\n",
              "      <td>15840664.0</td>\n",
              "      <td>16197007.0</td>\n",
              "      <td>1.649537e+07</td>\n",
              "      <td>1.691204e+07</td>\n",
              "      <td>1.743217e+07</td>\n",
              "      <td>1.773051e+07</td>\n",
              "      <td>1.814410e+07</td>\n",
              "      <td>1.868779e+07</td>\n",
              "      <td>1.909166e+07</td>\n",
              "    </tr>\n",
              "    <tr>\n",
              "      <th>1</th>\n",
              "      <td>\"00000\"</td>\n",
              "      <td>United States</td>\n",
              "      <td></td>\n",
              "      <td>SAGDP1</td>\n",
              "      <td>2.0</td>\n",
              "      <td>...</td>\n",
              "      <td>Chain-type quantity indexes for real GDP</td>\n",
              "      <td>Quantity index</td>\n",
              "      <td>7.113600e+01</td>\n",
              "      <td>7.432400e+01</td>\n",
              "      <td>7.785700e+01</td>\n",
              "      <td>81.07</td>\n",
              "      <td>81.88</td>\n",
              "      <td>8.330600e+01</td>\n",
              "      <td>8.568900e+01</td>\n",
              "      <td>8.894500e+01</td>\n",
              "      <td>92.07</td>\n",
              "      <td>9.469800e+01</td>\n",
              "      <td>9.647500e+01</td>\n",
              "      <td>9.634300e+01</td>\n",
              "      <td>9.389900e+01</td>\n",
              "      <td>9.630600e+01</td>\n",
              "      <td>97.8</td>\n",
              "      <td>100.0</td>\n",
              "      <td>1.018420e+02</td>\n",
              "      <td>1.044150e+02</td>\n",
              "      <td>1.076260e+02</td>\n",
              "      <td>1.094680e+02</td>\n",
              "      <td>1.120210e+02</td>\n",
              "      <td>1.153780e+02</td>\n",
              "      <td>1.178720e+02</td>\n",
              "    </tr>\n",
              "    <tr>\n",
              "      <th>2</th>\n",
              "      <td>\"00000\"</td>\n",
              "      <td>United States</td>\n",
              "      <td></td>\n",
              "      <td>SAGDP1</td>\n",
              "      <td>3.0</td>\n",
              "      <td>...</td>\n",
              "      <td>Current-dollar GDP (millions of current dollars)</td>\n",
              "      <td>Millions of current dollars</td>\n",
              "      <td>8.577552e+06</td>\n",
              "      <td>9.062817e+06</td>\n",
              "      <td>9.630663e+06</td>\n",
              "      <td>10252347.00</td>\n",
              "      <td>10581822.00</td>\n",
              "      <td>1.093642e+07</td>\n",
              "      <td>1.145825e+07</td>\n",
              "      <td>1.221373e+07</td>\n",
              "      <td>13036637.00</td>\n",
              "      <td>1.381461e+07</td>\n",
              "      <td>1.445186e+07</td>\n",
              "      <td>1.471284e+07</td>\n",
              "      <td>1.444893e+07</td>\n",
              "      <td>1.499205e+07</td>\n",
              "      <td>15542582.0</td>\n",
              "      <td>16197007.0</td>\n",
              "      <td>1.678485e+07</td>\n",
              "      <td>1.752726e+07</td>\n",
              "      <td>1.823830e+07</td>\n",
              "      <td>1.874508e+07</td>\n",
              "      <td>1.954298e+07</td>\n",
              "      <td>2.061186e+07</td>\n",
              "      <td>2.143323e+07</td>\n",
              "    </tr>\n",
              "    <tr>\n",
              "      <th>...</th>\n",
              "      <td>...</td>\n",
              "      <td>...</td>\n",
              "      <td>...</td>\n",
              "      <td>...</td>\n",
              "      <td>...</td>\n",
              "      <td>...</td>\n",
              "      <td>...</td>\n",
              "      <td>...</td>\n",
              "      <td>...</td>\n",
              "      <td>...</td>\n",
              "      <td>...</td>\n",
              "      <td>...</td>\n",
              "      <td>...</td>\n",
              "      <td>...</td>\n",
              "      <td>...</td>\n",
              "      <td>...</td>\n",
              "      <td>...</td>\n",
              "      <td>...</td>\n",
              "      <td>...</td>\n",
              "      <td>...</td>\n",
              "      <td>...</td>\n",
              "      <td>...</td>\n",
              "      <td>...</td>\n",
              "      <td>...</td>\n",
              "      <td>...</td>\n",
              "      <td>...</td>\n",
              "      <td>...</td>\n",
              "      <td>...</td>\n",
              "      <td>...</td>\n",
              "      <td>...</td>\n",
              "      <td>...</td>\n",
              "    </tr>\n",
              "    <tr>\n",
              "      <th>481</th>\n",
              "      <td>SAGDP1: Gross Domestic Product (GDP) summary, ...</td>\n",
              "      <td>NaN</td>\n",
              "      <td>NaN</td>\n",
              "      <td>NaN</td>\n",
              "      <td>NaN</td>\n",
              "      <td>NaN</td>\n",
              "      <td>NaN</td>\n",
              "      <td>NaN</td>\n",
              "      <td>NaN</td>\n",
              "      <td>NaN</td>\n",
              "      <td>NaN</td>\n",
              "      <td>NaN</td>\n",
              "      <td>NaN</td>\n",
              "      <td>NaN</td>\n",
              "      <td>NaN</td>\n",
              "      <td>NaN</td>\n",
              "      <td>NaN</td>\n",
              "      <td>NaN</td>\n",
              "      <td>NaN</td>\n",
              "      <td>NaN</td>\n",
              "      <td>NaN</td>\n",
              "      <td>NaN</td>\n",
              "      <td>NaN</td>\n",
              "      <td>NaN</td>\n",
              "      <td>NaN</td>\n",
              "      <td>NaN</td>\n",
              "      <td>NaN</td>\n",
              "      <td>NaN</td>\n",
              "      <td>NaN</td>\n",
              "      <td>NaN</td>\n",
              "      <td>NaN</td>\n",
              "    </tr>\n",
              "    <tr>\n",
              "      <th>482</th>\n",
              "      <td>Last updated: October 2, 2020-- revised statis...</td>\n",
              "      <td>NaN</td>\n",
              "      <td>NaN</td>\n",
              "      <td>NaN</td>\n",
              "      <td>NaN</td>\n",
              "      <td>NaN</td>\n",
              "      <td>NaN</td>\n",
              "      <td>NaN</td>\n",
              "      <td>NaN</td>\n",
              "      <td>NaN</td>\n",
              "      <td>NaN</td>\n",
              "      <td>NaN</td>\n",
              "      <td>NaN</td>\n",
              "      <td>NaN</td>\n",
              "      <td>NaN</td>\n",
              "      <td>NaN</td>\n",
              "      <td>NaN</td>\n",
              "      <td>NaN</td>\n",
              "      <td>NaN</td>\n",
              "      <td>NaN</td>\n",
              "      <td>NaN</td>\n",
              "      <td>NaN</td>\n",
              "      <td>NaN</td>\n",
              "      <td>NaN</td>\n",
              "      <td>NaN</td>\n",
              "      <td>NaN</td>\n",
              "      <td>NaN</td>\n",
              "      <td>NaN</td>\n",
              "      <td>NaN</td>\n",
              "      <td>NaN</td>\n",
              "      <td>NaN</td>\n",
              "    </tr>\n",
              "    <tr>\n",
              "      <th>483</th>\n",
              "      <td>Source: U.S. Department of Commerce / Bureau o...</td>\n",
              "      <td>NaN</td>\n",
              "      <td>NaN</td>\n",
              "      <td>NaN</td>\n",
              "      <td>NaN</td>\n",
              "      <td>NaN</td>\n",
              "      <td>NaN</td>\n",
              "      <td>NaN</td>\n",
              "      <td>NaN</td>\n",
              "      <td>NaN</td>\n",
              "      <td>NaN</td>\n",
              "      <td>NaN</td>\n",
              "      <td>NaN</td>\n",
              "      <td>NaN</td>\n",
              "      <td>NaN</td>\n",
              "      <td>NaN</td>\n",
              "      <td>NaN</td>\n",
              "      <td>NaN</td>\n",
              "      <td>NaN</td>\n",
              "      <td>NaN</td>\n",
              "      <td>NaN</td>\n",
              "      <td>NaN</td>\n",
              "      <td>NaN</td>\n",
              "      <td>NaN</td>\n",
              "      <td>NaN</td>\n",
              "      <td>NaN</td>\n",
              "      <td>NaN</td>\n",
              "      <td>NaN</td>\n",
              "      <td>NaN</td>\n",
              "      <td>NaN</td>\n",
              "      <td>NaN</td>\n",
              "    </tr>\n",
              "  </tbody>\n",
              "</table>\n",
              "<p>484 rows × 31 columns</p>\n",
              "</div>"
            ],
            "text/plain": [
              "                                               GeoFIPS  ...          2019\n",
              "0                                              \"00000\"  ...  1.909166e+07\n",
              "1                                              \"00000\"  ...  1.178720e+02\n",
              "2                                              \"00000\"  ...  2.143323e+07\n",
              "..                                                 ...  ...           ...\n",
              "481  SAGDP1: Gross Domestic Product (GDP) summary, ...  ...           NaN\n",
              "482  Last updated: October 2, 2020-- revised statis...  ...           NaN\n",
              "483  Source: U.S. Department of Commerce / Bureau o...  ...           NaN\n",
              "\n",
              "[484 rows x 31 columns]"
            ]
          },
          "metadata": {
            "tags": []
          },
          "execution_count": 7
        }
      ]
    },
    {
      "cell_type": "code",
      "metadata": {
        "colab": {
          "base_uri": "https://localhost:8080/",
          "height": 287
        },
        "id": "RmAiawq6qk6O",
        "outputId": "b1f36b6e-275f-42c1-ce90-cf9e7e60f5b0"
      },
      "source": [
        "# select only columns that matter\n",
        "col = ['GeoName', 'LineCode']\n",
        "col2 = list(range(2012, 2020))\n",
        "col2 = [str(year) for year in col2]\n",
        "col.extend(col2)\n",
        "df = df[col]\n",
        "df"
      ],
      "execution_count": 8,
      "outputs": [
        {
          "output_type": "execute_result",
          "data": {
            "text/html": [
              "<div>\n",
              "<style scoped>\n",
              "    .dataframe tbody tr th:only-of-type {\n",
              "        vertical-align: middle;\n",
              "    }\n",
              "\n",
              "    .dataframe tbody tr th {\n",
              "        vertical-align: top;\n",
              "    }\n",
              "\n",
              "    .dataframe thead th {\n",
              "        text-align: right;\n",
              "    }\n",
              "</style>\n",
              "<table border=\"1\" class=\"dataframe\">\n",
              "  <thead>\n",
              "    <tr style=\"text-align: right;\">\n",
              "      <th></th>\n",
              "      <th>GeoName</th>\n",
              "      <th>LineCode</th>\n",
              "      <th>2012</th>\n",
              "      <th>2013</th>\n",
              "      <th>2014</th>\n",
              "      <th>2015</th>\n",
              "      <th>2016</th>\n",
              "      <th>2017</th>\n",
              "      <th>2018</th>\n",
              "      <th>2019</th>\n",
              "    </tr>\n",
              "  </thead>\n",
              "  <tbody>\n",
              "    <tr>\n",
              "      <th>0</th>\n",
              "      <td>United States</td>\n",
              "      <td>1.0</td>\n",
              "      <td>16197007.0</td>\n",
              "      <td>1.649537e+07</td>\n",
              "      <td>1.691204e+07</td>\n",
              "      <td>1.743217e+07</td>\n",
              "      <td>1.773051e+07</td>\n",
              "      <td>1.814410e+07</td>\n",
              "      <td>1.868779e+07</td>\n",
              "      <td>1.909166e+07</td>\n",
              "    </tr>\n",
              "    <tr>\n",
              "      <th>1</th>\n",
              "      <td>United States</td>\n",
              "      <td>2.0</td>\n",
              "      <td>100.0</td>\n",
              "      <td>1.018420e+02</td>\n",
              "      <td>1.044150e+02</td>\n",
              "      <td>1.076260e+02</td>\n",
              "      <td>1.094680e+02</td>\n",
              "      <td>1.120210e+02</td>\n",
              "      <td>1.153780e+02</td>\n",
              "      <td>1.178720e+02</td>\n",
              "    </tr>\n",
              "    <tr>\n",
              "      <th>2</th>\n",
              "      <td>United States</td>\n",
              "      <td>3.0</td>\n",
              "      <td>16197007.0</td>\n",
              "      <td>1.678485e+07</td>\n",
              "      <td>1.752726e+07</td>\n",
              "      <td>1.823830e+07</td>\n",
              "      <td>1.874508e+07</td>\n",
              "      <td>1.954298e+07</td>\n",
              "      <td>2.061186e+07</td>\n",
              "      <td>2.143323e+07</td>\n",
              "    </tr>\n",
              "    <tr>\n",
              "      <th>...</th>\n",
              "      <td>...</td>\n",
              "      <td>...</td>\n",
              "      <td>...</td>\n",
              "      <td>...</td>\n",
              "      <td>...</td>\n",
              "      <td>...</td>\n",
              "      <td>...</td>\n",
              "      <td>...</td>\n",
              "      <td>...</td>\n",
              "      <td>...</td>\n",
              "    </tr>\n",
              "    <tr>\n",
              "      <th>481</th>\n",
              "      <td>NaN</td>\n",
              "      <td>NaN</td>\n",
              "      <td>NaN</td>\n",
              "      <td>NaN</td>\n",
              "      <td>NaN</td>\n",
              "      <td>NaN</td>\n",
              "      <td>NaN</td>\n",
              "      <td>NaN</td>\n",
              "      <td>NaN</td>\n",
              "      <td>NaN</td>\n",
              "    </tr>\n",
              "    <tr>\n",
              "      <th>482</th>\n",
              "      <td>NaN</td>\n",
              "      <td>NaN</td>\n",
              "      <td>NaN</td>\n",
              "      <td>NaN</td>\n",
              "      <td>NaN</td>\n",
              "      <td>NaN</td>\n",
              "      <td>NaN</td>\n",
              "      <td>NaN</td>\n",
              "      <td>NaN</td>\n",
              "      <td>NaN</td>\n",
              "    </tr>\n",
              "    <tr>\n",
              "      <th>483</th>\n",
              "      <td>NaN</td>\n",
              "      <td>NaN</td>\n",
              "      <td>NaN</td>\n",
              "      <td>NaN</td>\n",
              "      <td>NaN</td>\n",
              "      <td>NaN</td>\n",
              "      <td>NaN</td>\n",
              "      <td>NaN</td>\n",
              "      <td>NaN</td>\n",
              "      <td>NaN</td>\n",
              "    </tr>\n",
              "  </tbody>\n",
              "</table>\n",
              "<p>484 rows × 10 columns</p>\n",
              "</div>"
            ],
            "text/plain": [
              "           GeoName  LineCode  ...          2018          2019\n",
              "0    United States       1.0  ...  1.868779e+07  1.909166e+07\n",
              "1    United States       2.0  ...  1.153780e+02  1.178720e+02\n",
              "2    United States       3.0  ...  2.061186e+07  2.143323e+07\n",
              "..             ...       ...  ...           ...           ...\n",
              "481            NaN       NaN  ...           NaN           NaN\n",
              "482            NaN       NaN  ...           NaN           NaN\n",
              "483            NaN       NaN  ...           NaN           NaN\n",
              "\n",
              "[484 rows x 10 columns]"
            ]
          },
          "metadata": {
            "tags": []
          },
          "execution_count": 8
        }
      ]
    },
    {
      "cell_type": "code",
      "metadata": {
        "colab": {
          "base_uri": "https://localhost:8080/",
          "height": 287
        },
        "id": "xMRgpoC41OGp",
        "outputId": "2af2d909-1def-4eaf-bb66-f233f03a7f61"
      },
      "source": [
        "# clear NaN, clear rows (& column) that not used\n",
        "df = df.dropna(axis=0)\n",
        "df = df[df['LineCode']==1.0]\n",
        "df = df.drop(columns='LineCode')\n",
        "df.reset_index()"
      ],
      "execution_count": 9,
      "outputs": [
        {
          "output_type": "execute_result",
          "data": {
            "text/html": [
              "<div>\n",
              "<style scoped>\n",
              "    .dataframe tbody tr th:only-of-type {\n",
              "        vertical-align: middle;\n",
              "    }\n",
              "\n",
              "    .dataframe tbody tr th {\n",
              "        vertical-align: top;\n",
              "    }\n",
              "\n",
              "    .dataframe thead th {\n",
              "        text-align: right;\n",
              "    }\n",
              "</style>\n",
              "<table border=\"1\" class=\"dataframe\">\n",
              "  <thead>\n",
              "    <tr style=\"text-align: right;\">\n",
              "      <th></th>\n",
              "      <th>index</th>\n",
              "      <th>GeoName</th>\n",
              "      <th>2012</th>\n",
              "      <th>2013</th>\n",
              "      <th>2014</th>\n",
              "      <th>2015</th>\n",
              "      <th>2016</th>\n",
              "      <th>2017</th>\n",
              "      <th>2018</th>\n",
              "      <th>2019</th>\n",
              "    </tr>\n",
              "  </thead>\n",
              "  <tbody>\n",
              "    <tr>\n",
              "      <th>0</th>\n",
              "      <td>0</td>\n",
              "      <td>United States</td>\n",
              "      <td>16197007.0</td>\n",
              "      <td>16495369.0</td>\n",
              "      <td>16912038.0</td>\n",
              "      <td>17432170.0</td>\n",
              "      <td>17730509.0</td>\n",
              "      <td>18144105.0</td>\n",
              "      <td>18687786.0</td>\n",
              "      <td>19091662.0</td>\n",
              "    </tr>\n",
              "    <tr>\n",
              "      <th>1</th>\n",
              "      <td>8</td>\n",
              "      <td>Alabama</td>\n",
              "      <td>186553.9</td>\n",
              "      <td>188814.2</td>\n",
              "      <td>187568.0</td>\n",
              "      <td>189428.8</td>\n",
              "      <td>191523.4</td>\n",
              "      <td>193693.0</td>\n",
              "      <td>198053.7</td>\n",
              "      <td>200829.4</td>\n",
              "    </tr>\n",
              "    <tr>\n",
              "      <th>2</th>\n",
              "      <td>16</td>\n",
              "      <td>Alaska</td>\n",
              "      <td>57717.5</td>\n",
              "      <td>54748.1</td>\n",
              "      <td>53480.6</td>\n",
              "      <td>54015.3</td>\n",
              "      <td>53289.0</td>\n",
              "      <td>52825.9</td>\n",
              "      <td>52928.7</td>\n",
              "      <td>53255.2</td>\n",
              "    </tr>\n",
              "    <tr>\n",
              "      <th>...</th>\n",
              "      <td>...</td>\n",
              "      <td>...</td>\n",
              "      <td>...</td>\n",
              "      <td>...</td>\n",
              "      <td>...</td>\n",
              "      <td>...</td>\n",
              "      <td>...</td>\n",
              "      <td>...</td>\n",
              "      <td>...</td>\n",
              "      <td>...</td>\n",
              "    </tr>\n",
              "    <tr>\n",
              "      <th>57</th>\n",
              "      <td>456</td>\n",
              "      <td>Southwest</td>\n",
              "      <td>1939399.5</td>\n",
              "      <td>2003922.4</td>\n",
              "      <td>2068424.7</td>\n",
              "      <td>2162768.2</td>\n",
              "      <td>2178408.5</td>\n",
              "      <td>2234576.5</td>\n",
              "      <td>2317630.1</td>\n",
              "      <td>2386060.9</td>\n",
              "    </tr>\n",
              "    <tr>\n",
              "      <th>58</th>\n",
              "      <td>464</td>\n",
              "      <td>Rocky Mountain</td>\n",
              "      <td>540617.5</td>\n",
              "      <td>555700.5</td>\n",
              "      <td>574822.4</td>\n",
              "      <td>598732.2</td>\n",
              "      <td>612042.5</td>\n",
              "      <td>634833.8</td>\n",
              "      <td>663932.3</td>\n",
              "      <td>687941.6</td>\n",
              "    </tr>\n",
              "    <tr>\n",
              "      <th>59</th>\n",
              "      <td>472</td>\n",
              "      <td>Far West</td>\n",
              "      <td>2978323.8</td>\n",
              "      <td>3064232.5</td>\n",
              "      <td>3181845.2</td>\n",
              "      <td>3341931.9</td>\n",
              "      <td>3455461.8</td>\n",
              "      <td>3605311.7</td>\n",
              "      <td>3738194.2</td>\n",
              "      <td>3864650.3</td>\n",
              "    </tr>\n",
              "  </tbody>\n",
              "</table>\n",
              "<p>60 rows × 10 columns</p>\n",
              "</div>"
            ],
            "text/plain": [
              "    index         GeoName        2012  ...        2017        2018        2019\n",
              "0       0   United States  16197007.0  ...  18144105.0  18687786.0  19091662.0\n",
              "1       8         Alabama    186553.9  ...    193693.0    198053.7    200829.4\n",
              "2      16          Alaska     57717.5  ...     52825.9     52928.7     53255.2\n",
              "..    ...             ...         ...  ...         ...         ...         ...\n",
              "57    456       Southwest   1939399.5  ...   2234576.5   2317630.1   2386060.9\n",
              "58    464  Rocky Mountain    540617.5  ...    634833.8    663932.3    687941.6\n",
              "59    472        Far West   2978323.8  ...   3605311.7   3738194.2   3864650.3\n",
              "\n",
              "[60 rows x 10 columns]"
            ]
          },
          "metadata": {
            "tags": []
          },
          "execution_count": 9
        }
      ]
    },
    {
      "cell_type": "code",
      "metadata": {
        "colab": {
          "base_uri": "https://localhost:8080/"
        },
        "id": "CYEHxAk5uSOO",
        "outputId": "79e01faf-b1ad-46e0-8876-c1c14fb80ec5"
      },
      "source": [
        "# check validity of column 'GeoName' to be used as US 50+1 states & as index\n",
        "geo_list = df['GeoName'].unique()\n",
        "print(geo_list, '\\n')\n",
        "print('geo_list size :', geo_list.size)"
      ],
      "execution_count": 10,
      "outputs": [
        {
          "output_type": "stream",
          "text": [
            "['United States' 'Alabama' 'Alaska' 'Arizona' 'Arkansas' 'California'\n",
            " 'Colorado' 'Connecticut' 'Delaware' 'District of Columbia' 'Florida'\n",
            " 'Georgia' 'Hawaii' 'Idaho' 'Illinois' 'Indiana' 'Iowa' 'Kansas'\n",
            " 'Kentucky' 'Louisiana' 'Maine' 'Maryland' 'Massachusetts' 'Michigan'\n",
            " 'Minnesota' 'Mississippi' 'Missouri' 'Montana' 'Nebraska' 'Nevada'\n",
            " 'New Hampshire' 'New Jersey' 'New Mexico' 'New York' 'North Carolina'\n",
            " 'North Dakota' 'Ohio' 'Oklahoma' 'Oregon' 'Pennsylvania' 'Rhode Island'\n",
            " 'South Carolina' 'South Dakota' 'Tennessee' 'Texas' 'Utah' 'Vermont'\n",
            " 'Virginia' 'Washington' 'West Virginia' 'Wisconsin' 'Wyoming'\n",
            " 'New England' 'Mideast' 'Great Lakes' 'Plains' 'Southeast' 'Southwest'\n",
            " 'Rocky Mountain' 'Far West'] \n",
            "\n",
            "geo_list size : 60\n"
          ],
          "name": "stdout"
        }
      ]
    },
    {
      "cell_type": "code",
      "metadata": {
        "colab": {
          "base_uri": "https://localhost:8080/",
          "height": 317
        },
        "id": "DrcP2ABz6gp4",
        "outputId": "50a0947d-172b-40b0-8471-7e08033d61a7"
      },
      "source": [
        "# set 'GeoName' to be the index\n",
        "df = df.set_index('GeoName')\n",
        "df"
      ],
      "execution_count": 11,
      "outputs": [
        {
          "output_type": "execute_result",
          "data": {
            "text/html": [
              "<div>\n",
              "<style scoped>\n",
              "    .dataframe tbody tr th:only-of-type {\n",
              "        vertical-align: middle;\n",
              "    }\n",
              "\n",
              "    .dataframe tbody tr th {\n",
              "        vertical-align: top;\n",
              "    }\n",
              "\n",
              "    .dataframe thead th {\n",
              "        text-align: right;\n",
              "    }\n",
              "</style>\n",
              "<table border=\"1\" class=\"dataframe\">\n",
              "  <thead>\n",
              "    <tr style=\"text-align: right;\">\n",
              "      <th></th>\n",
              "      <th>2012</th>\n",
              "      <th>2013</th>\n",
              "      <th>2014</th>\n",
              "      <th>2015</th>\n",
              "      <th>2016</th>\n",
              "      <th>2017</th>\n",
              "      <th>2018</th>\n",
              "      <th>2019</th>\n",
              "    </tr>\n",
              "    <tr>\n",
              "      <th>GeoName</th>\n",
              "      <th></th>\n",
              "      <th></th>\n",
              "      <th></th>\n",
              "      <th></th>\n",
              "      <th></th>\n",
              "      <th></th>\n",
              "      <th></th>\n",
              "      <th></th>\n",
              "    </tr>\n",
              "  </thead>\n",
              "  <tbody>\n",
              "    <tr>\n",
              "      <th>United States</th>\n",
              "      <td>16197007.0</td>\n",
              "      <td>16495369.0</td>\n",
              "      <td>16912038.0</td>\n",
              "      <td>17432170.0</td>\n",
              "      <td>17730509.0</td>\n",
              "      <td>18144105.0</td>\n",
              "      <td>18687786.0</td>\n",
              "      <td>19091662.0</td>\n",
              "    </tr>\n",
              "    <tr>\n",
              "      <th>Alabama</th>\n",
              "      <td>186553.9</td>\n",
              "      <td>188814.2</td>\n",
              "      <td>187568.0</td>\n",
              "      <td>189428.8</td>\n",
              "      <td>191523.4</td>\n",
              "      <td>193693.0</td>\n",
              "      <td>198053.7</td>\n",
              "      <td>200829.4</td>\n",
              "    </tr>\n",
              "    <tr>\n",
              "      <th>Alaska</th>\n",
              "      <td>57717.5</td>\n",
              "      <td>54748.1</td>\n",
              "      <td>53480.6</td>\n",
              "      <td>54015.3</td>\n",
              "      <td>53289.0</td>\n",
              "      <td>52825.9</td>\n",
              "      <td>52928.7</td>\n",
              "      <td>53255.2</td>\n",
              "    </tr>\n",
              "    <tr>\n",
              "      <th>...</th>\n",
              "      <td>...</td>\n",
              "      <td>...</td>\n",
              "      <td>...</td>\n",
              "      <td>...</td>\n",
              "      <td>...</td>\n",
              "      <td>...</td>\n",
              "      <td>...</td>\n",
              "      <td>...</td>\n",
              "    </tr>\n",
              "    <tr>\n",
              "      <th>Southwest</th>\n",
              "      <td>1939399.5</td>\n",
              "      <td>2003922.4</td>\n",
              "      <td>2068424.7</td>\n",
              "      <td>2162768.2</td>\n",
              "      <td>2178408.5</td>\n",
              "      <td>2234576.5</td>\n",
              "      <td>2317630.1</td>\n",
              "      <td>2386060.9</td>\n",
              "    </tr>\n",
              "    <tr>\n",
              "      <th>Rocky Mountain</th>\n",
              "      <td>540617.5</td>\n",
              "      <td>555700.5</td>\n",
              "      <td>574822.4</td>\n",
              "      <td>598732.2</td>\n",
              "      <td>612042.5</td>\n",
              "      <td>634833.8</td>\n",
              "      <td>663932.3</td>\n",
              "      <td>687941.6</td>\n",
              "    </tr>\n",
              "    <tr>\n",
              "      <th>Far West</th>\n",
              "      <td>2978323.8</td>\n",
              "      <td>3064232.5</td>\n",
              "      <td>3181845.2</td>\n",
              "      <td>3341931.9</td>\n",
              "      <td>3455461.8</td>\n",
              "      <td>3605311.7</td>\n",
              "      <td>3738194.2</td>\n",
              "      <td>3864650.3</td>\n",
              "    </tr>\n",
              "  </tbody>\n",
              "</table>\n",
              "<p>60 rows × 8 columns</p>\n",
              "</div>"
            ],
            "text/plain": [
              "                      2012        2013  ...        2018        2019\n",
              "GeoName                                 ...                        \n",
              "United States   16197007.0  16495369.0  ...  18687786.0  19091662.0\n",
              "Alabama           186553.9    188814.2  ...    198053.7    200829.4\n",
              "Alaska             57717.5     54748.1  ...     52928.7     53255.2\n",
              "...                    ...         ...  ...         ...         ...\n",
              "Southwest        1939399.5   2003922.4  ...   2317630.1   2386060.9\n",
              "Rocky Mountain    540617.5    555700.5  ...    663932.3    687941.6\n",
              "Far West         2978323.8   3064232.5  ...   3738194.2   3864650.3\n",
              "\n",
              "[60 rows x 8 columns]"
            ]
          },
          "metadata": {
            "tags": []
          },
          "execution_count": 11
        }
      ]
    },
    {
      "cell_type": "code",
      "metadata": {
        "colab": {
          "base_uri": "https://localhost:8080/",
          "height": 317
        },
        "id": "NHokvJydvAZt",
        "outputId": "e02d76c6-4862-4c8f-ebf5-df66270bceba"
      },
      "source": [
        "# remove rows that are not the US states\n",
        "non_states = ['United States', 'New England', 'Mideast', 'Great Lakes', 'Plains', 'Southeast', 'Southwest', 'Rocky Mountain', 'Far West']\n",
        "df = df.drop(non_states)\n",
        "df"
      ],
      "execution_count": 12,
      "outputs": [
        {
          "output_type": "execute_result",
          "data": {
            "text/html": [
              "<div>\n",
              "<style scoped>\n",
              "    .dataframe tbody tr th:only-of-type {\n",
              "        vertical-align: middle;\n",
              "    }\n",
              "\n",
              "    .dataframe tbody tr th {\n",
              "        vertical-align: top;\n",
              "    }\n",
              "\n",
              "    .dataframe thead th {\n",
              "        text-align: right;\n",
              "    }\n",
              "</style>\n",
              "<table border=\"1\" class=\"dataframe\">\n",
              "  <thead>\n",
              "    <tr style=\"text-align: right;\">\n",
              "      <th></th>\n",
              "      <th>2012</th>\n",
              "      <th>2013</th>\n",
              "      <th>2014</th>\n",
              "      <th>2015</th>\n",
              "      <th>2016</th>\n",
              "      <th>2017</th>\n",
              "      <th>2018</th>\n",
              "      <th>2019</th>\n",
              "    </tr>\n",
              "    <tr>\n",
              "      <th>GeoName</th>\n",
              "      <th></th>\n",
              "      <th></th>\n",
              "      <th></th>\n",
              "      <th></th>\n",
              "      <th></th>\n",
              "      <th></th>\n",
              "      <th></th>\n",
              "      <th></th>\n",
              "    </tr>\n",
              "  </thead>\n",
              "  <tbody>\n",
              "    <tr>\n",
              "      <th>Alabama</th>\n",
              "      <td>186553.9</td>\n",
              "      <td>188814.2</td>\n",
              "      <td>187568.0</td>\n",
              "      <td>189428.8</td>\n",
              "      <td>191523.4</td>\n",
              "      <td>193693.0</td>\n",
              "      <td>198053.7</td>\n",
              "      <td>200829.4</td>\n",
              "    </tr>\n",
              "    <tr>\n",
              "      <th>Alaska</th>\n",
              "      <td>57717.5</td>\n",
              "      <td>54748.1</td>\n",
              "      <td>53480.6</td>\n",
              "      <td>54015.3</td>\n",
              "      <td>53289.0</td>\n",
              "      <td>52825.9</td>\n",
              "      <td>52928.7</td>\n",
              "      <td>53255.2</td>\n",
              "    </tr>\n",
              "    <tr>\n",
              "      <th>Arizona</th>\n",
              "      <td>268068.2</td>\n",
              "      <td>269967.4</td>\n",
              "      <td>274112.9</td>\n",
              "      <td>281935.6</td>\n",
              "      <td>291259.6</td>\n",
              "      <td>302117.8</td>\n",
              "      <td>314016.1</td>\n",
              "      <td>323597.6</td>\n",
              "    </tr>\n",
              "    <tr>\n",
              "      <th>...</th>\n",
              "      <td>...</td>\n",
              "      <td>...</td>\n",
              "      <td>...</td>\n",
              "      <td>...</td>\n",
              "      <td>...</td>\n",
              "      <td>...</td>\n",
              "      <td>...</td>\n",
              "      <td>...</td>\n",
              "    </tr>\n",
              "    <tr>\n",
              "      <th>West Virginia</th>\n",
              "      <td>69335.6</td>\n",
              "      <td>70121.2</td>\n",
              "      <td>69720.7</td>\n",
              "      <td>70332.7</td>\n",
              "      <td>69276.4</td>\n",
              "      <td>69743.2</td>\n",
              "      <td>71858.7</td>\n",
              "      <td>72340.4</td>\n",
              "    </tr>\n",
              "    <tr>\n",
              "      <th>Wisconsin</th>\n",
              "      <td>274540.5</td>\n",
              "      <td>275648.7</td>\n",
              "      <td>282031.2</td>\n",
              "      <td>288260.1</td>\n",
              "      <td>291320.5</td>\n",
              "      <td>294151.7</td>\n",
              "      <td>303767.4</td>\n",
              "      <td>308044.7</td>\n",
              "    </tr>\n",
              "    <tr>\n",
              "      <th>Wyoming</th>\n",
              "      <td>38437.7</td>\n",
              "      <td>38523.2</td>\n",
              "      <td>38711.1</td>\n",
              "      <td>39899.0</td>\n",
              "      <td>38079.7</td>\n",
              "      <td>37866.3</td>\n",
              "      <td>38696.3</td>\n",
              "      <td>39214.0</td>\n",
              "    </tr>\n",
              "  </tbody>\n",
              "</table>\n",
              "<p>51 rows × 8 columns</p>\n",
              "</div>"
            ],
            "text/plain": [
              "                   2012      2013      2014  ...      2017      2018      2019\n",
              "GeoName                                      ...                              \n",
              "Alabama        186553.9  188814.2  187568.0  ...  193693.0  198053.7  200829.4\n",
              "Alaska          57717.5   54748.1   53480.6  ...   52825.9   52928.7   53255.2\n",
              "Arizona        268068.2  269967.4  274112.9  ...  302117.8  314016.1  323597.6\n",
              "...                 ...       ...       ...  ...       ...       ...       ...\n",
              "West Virginia   69335.6   70121.2   69720.7  ...   69743.2   71858.7   72340.4\n",
              "Wisconsin      274540.5  275648.7  282031.2  ...  294151.7  303767.4  308044.7\n",
              "Wyoming         38437.7   38523.2   38711.1  ...   37866.3   38696.3   39214.0\n",
              "\n",
              "[51 rows x 8 columns]"
            ]
          },
          "metadata": {
            "tags": []
          },
          "execution_count": 12
        }
      ]
    },
    {
      "cell_type": "code",
      "metadata": {
        "colab": {
          "base_uri": "https://localhost:8080/",
          "height": 317
        },
        "id": "eGFcq5dxB0B5",
        "outputId": "479c169a-ed78-4b05-c4c2-a0dd7fc196d8"
      },
      "source": [
        "# create columns percent growth of GDP from year 2013-2019\n",
        "\n",
        "#grow_2013 = (df['2013']-df['2012'])/df['2012']*100\n",
        "\n",
        "for year in range(2013, 2020):\n",
        "    now = str(year)\n",
        "    prev = str(year-1)\n",
        "    df['grow_'+now] = (df[now]-df[prev])/df[now]*100\n",
        "\n",
        "df"
      ],
      "execution_count": 13,
      "outputs": [
        {
          "output_type": "execute_result",
          "data": {
            "text/html": [
              "<div>\n",
              "<style scoped>\n",
              "    .dataframe tbody tr th:only-of-type {\n",
              "        vertical-align: middle;\n",
              "    }\n",
              "\n",
              "    .dataframe tbody tr th {\n",
              "        vertical-align: top;\n",
              "    }\n",
              "\n",
              "    .dataframe thead th {\n",
              "        text-align: right;\n",
              "    }\n",
              "</style>\n",
              "<table border=\"1\" class=\"dataframe\">\n",
              "  <thead>\n",
              "    <tr style=\"text-align: right;\">\n",
              "      <th></th>\n",
              "      <th>2012</th>\n",
              "      <th>2013</th>\n",
              "      <th>2014</th>\n",
              "      <th>2015</th>\n",
              "      <th>2016</th>\n",
              "      <th>2017</th>\n",
              "      <th>2018</th>\n",
              "      <th>2019</th>\n",
              "      <th>grow_2013</th>\n",
              "      <th>grow_2014</th>\n",
              "      <th>grow_2015</th>\n",
              "      <th>grow_2016</th>\n",
              "      <th>grow_2017</th>\n",
              "      <th>grow_2018</th>\n",
              "      <th>grow_2019</th>\n",
              "    </tr>\n",
              "    <tr>\n",
              "      <th>GeoName</th>\n",
              "      <th></th>\n",
              "      <th></th>\n",
              "      <th></th>\n",
              "      <th></th>\n",
              "      <th></th>\n",
              "      <th></th>\n",
              "      <th></th>\n",
              "      <th></th>\n",
              "      <th></th>\n",
              "      <th></th>\n",
              "      <th></th>\n",
              "      <th></th>\n",
              "      <th></th>\n",
              "      <th></th>\n",
              "      <th></th>\n",
              "    </tr>\n",
              "  </thead>\n",
              "  <tbody>\n",
              "    <tr>\n",
              "      <th>Alabama</th>\n",
              "      <td>186553.9</td>\n",
              "      <td>188814.2</td>\n",
              "      <td>187568.0</td>\n",
              "      <td>189428.8</td>\n",
              "      <td>191523.4</td>\n",
              "      <td>193693.0</td>\n",
              "      <td>198053.7</td>\n",
              "      <td>200829.4</td>\n",
              "      <td>1.197103</td>\n",
              "      <td>-0.664399</td>\n",
              "      <td>0.982322</td>\n",
              "      <td>1.093652</td>\n",
              "      <td>1.120123</td>\n",
              "      <td>2.201777</td>\n",
              "      <td>1.382118</td>\n",
              "    </tr>\n",
              "    <tr>\n",
              "      <th>Alaska</th>\n",
              "      <td>57717.5</td>\n",
              "      <td>54748.1</td>\n",
              "      <td>53480.6</td>\n",
              "      <td>54015.3</td>\n",
              "      <td>53289.0</td>\n",
              "      <td>52825.9</td>\n",
              "      <td>52928.7</td>\n",
              "      <td>53255.2</td>\n",
              "      <td>-5.423750</td>\n",
              "      <td>-2.370018</td>\n",
              "      <td>0.989905</td>\n",
              "      <td>-1.362945</td>\n",
              "      <td>-0.876653</td>\n",
              "      <td>0.194224</td>\n",
              "      <td>0.613086</td>\n",
              "    </tr>\n",
              "    <tr>\n",
              "      <th>Arizona</th>\n",
              "      <td>268068.2</td>\n",
              "      <td>269967.4</td>\n",
              "      <td>274112.9</td>\n",
              "      <td>281935.6</td>\n",
              "      <td>291259.6</td>\n",
              "      <td>302117.8</td>\n",
              "      <td>314016.1</td>\n",
              "      <td>323597.6</td>\n",
              "      <td>0.703492</td>\n",
              "      <td>1.512333</td>\n",
              "      <td>2.774641</td>\n",
              "      <td>3.201268</td>\n",
              "      <td>3.594029</td>\n",
              "      <td>3.789073</td>\n",
              "      <td>2.960930</td>\n",
              "    </tr>\n",
              "    <tr>\n",
              "      <th>...</th>\n",
              "      <td>...</td>\n",
              "      <td>...</td>\n",
              "      <td>...</td>\n",
              "      <td>...</td>\n",
              "      <td>...</td>\n",
              "      <td>...</td>\n",
              "      <td>...</td>\n",
              "      <td>...</td>\n",
              "      <td>...</td>\n",
              "      <td>...</td>\n",
              "      <td>...</td>\n",
              "      <td>...</td>\n",
              "      <td>...</td>\n",
              "      <td>...</td>\n",
              "      <td>...</td>\n",
              "    </tr>\n",
              "    <tr>\n",
              "      <th>West Virginia</th>\n",
              "      <td>69335.6</td>\n",
              "      <td>70121.2</td>\n",
              "      <td>69720.7</td>\n",
              "      <td>70332.7</td>\n",
              "      <td>69276.4</td>\n",
              "      <td>69743.2</td>\n",
              "      <td>71858.7</td>\n",
              "      <td>72340.4</td>\n",
              "      <td>1.120346</td>\n",
              "      <td>-0.574435</td>\n",
              "      <td>0.870150</td>\n",
              "      <td>-1.524762</td>\n",
              "      <td>0.669313</td>\n",
              "      <td>2.943972</td>\n",
              "      <td>0.665880</td>\n",
              "    </tr>\n",
              "    <tr>\n",
              "      <th>Wisconsin</th>\n",
              "      <td>274540.5</td>\n",
              "      <td>275648.7</td>\n",
              "      <td>282031.2</td>\n",
              "      <td>288260.1</td>\n",
              "      <td>291320.5</td>\n",
              "      <td>294151.7</td>\n",
              "      <td>303767.4</td>\n",
              "      <td>308044.7</td>\n",
              "      <td>0.402033</td>\n",
              "      <td>2.263047</td>\n",
              "      <td>2.160861</td>\n",
              "      <td>1.050527</td>\n",
              "      <td>0.962497</td>\n",
              "      <td>3.165481</td>\n",
              "      <td>1.388532</td>\n",
              "    </tr>\n",
              "    <tr>\n",
              "      <th>Wyoming</th>\n",
              "      <td>38437.7</td>\n",
              "      <td>38523.2</td>\n",
              "      <td>38711.1</td>\n",
              "      <td>39899.0</td>\n",
              "      <td>38079.7</td>\n",
              "      <td>37866.3</td>\n",
              "      <td>38696.3</td>\n",
              "      <td>39214.0</td>\n",
              "      <td>0.221944</td>\n",
              "      <td>0.485390</td>\n",
              "      <td>2.977268</td>\n",
              "      <td>-4.777611</td>\n",
              "      <td>-0.563562</td>\n",
              "      <td>2.144908</td>\n",
              "      <td>1.320192</td>\n",
              "    </tr>\n",
              "  </tbody>\n",
              "</table>\n",
              "<p>51 rows × 15 columns</p>\n",
              "</div>"
            ],
            "text/plain": [
              "                   2012      2013      2014  ...  grow_2017  grow_2018  grow_2019\n",
              "GeoName                                      ...                                 \n",
              "Alabama        186553.9  188814.2  187568.0  ...   1.120123   2.201777   1.382118\n",
              "Alaska          57717.5   54748.1   53480.6  ...  -0.876653   0.194224   0.613086\n",
              "Arizona        268068.2  269967.4  274112.9  ...   3.594029   3.789073   2.960930\n",
              "...                 ...       ...       ...  ...        ...        ...        ...\n",
              "West Virginia   69335.6   70121.2   69720.7  ...   0.669313   2.943972   0.665880\n",
              "Wisconsin      274540.5  275648.7  282031.2  ...   0.962497   3.165481   1.388532\n",
              "Wyoming         38437.7   38523.2   38711.1  ...  -0.563562   2.144908   1.320192\n",
              "\n",
              "[51 rows x 15 columns]"
            ]
          },
          "metadata": {
            "tags": []
          },
          "execution_count": 13
        }
      ]
    },
    {
      "cell_type": "code",
      "metadata": {
        "colab": {
          "base_uri": "https://localhost:8080/",
          "height": 355
        },
        "id": "2hRciI0OGBBd",
        "outputId": "beb2587b-a4ad-47b3-e20a-13ca382d88e3"
      },
      "source": [
        "# use median of percent GDP growth of year 2013-2016 as representative of GDP of Democrat(Obama), and 2017-2019 for Republican(Trump)\n",
        "df['median_dem'] = df.loc[:,'grow_2013':'grow_2016'].median(axis = 1)\n",
        "df['median_rep'] = df.loc[:,'grow_2017':'grow_2019'].median(axis = 1)\n",
        "df['median_diff'] = df.median_rep - df.median_dem\n",
        "df"
      ],
      "execution_count": 14,
      "outputs": [
        {
          "output_type": "execute_result",
          "data": {
            "text/html": [
              "<div>\n",
              "<style scoped>\n",
              "    .dataframe tbody tr th:only-of-type {\n",
              "        vertical-align: middle;\n",
              "    }\n",
              "\n",
              "    .dataframe tbody tr th {\n",
              "        vertical-align: top;\n",
              "    }\n",
              "\n",
              "    .dataframe thead th {\n",
              "        text-align: right;\n",
              "    }\n",
              "</style>\n",
              "<table border=\"1\" class=\"dataframe\">\n",
              "  <thead>\n",
              "    <tr style=\"text-align: right;\">\n",
              "      <th></th>\n",
              "      <th>2012</th>\n",
              "      <th>2013</th>\n",
              "      <th>2014</th>\n",
              "      <th>2015</th>\n",
              "      <th>2016</th>\n",
              "      <th>2017</th>\n",
              "      <th>2018</th>\n",
              "      <th>2019</th>\n",
              "      <th>grow_2013</th>\n",
              "      <th>grow_2014</th>\n",
              "      <th>grow_2015</th>\n",
              "      <th>grow_2016</th>\n",
              "      <th>grow_2017</th>\n",
              "      <th>grow_2018</th>\n",
              "      <th>grow_2019</th>\n",
              "      <th>median_dem</th>\n",
              "      <th>median_rep</th>\n",
              "      <th>median_diff</th>\n",
              "    </tr>\n",
              "    <tr>\n",
              "      <th>GeoName</th>\n",
              "      <th></th>\n",
              "      <th></th>\n",
              "      <th></th>\n",
              "      <th></th>\n",
              "      <th></th>\n",
              "      <th></th>\n",
              "      <th></th>\n",
              "      <th></th>\n",
              "      <th></th>\n",
              "      <th></th>\n",
              "      <th></th>\n",
              "      <th></th>\n",
              "      <th></th>\n",
              "      <th></th>\n",
              "      <th></th>\n",
              "      <th></th>\n",
              "      <th></th>\n",
              "      <th></th>\n",
              "    </tr>\n",
              "  </thead>\n",
              "  <tbody>\n",
              "    <tr>\n",
              "      <th>Alabama</th>\n",
              "      <td>186553.9</td>\n",
              "      <td>188814.2</td>\n",
              "      <td>187568.0</td>\n",
              "      <td>189428.8</td>\n",
              "      <td>191523.4</td>\n",
              "      <td>193693.0</td>\n",
              "      <td>198053.7</td>\n",
              "      <td>200829.4</td>\n",
              "      <td>1.197103</td>\n",
              "      <td>-0.664399</td>\n",
              "      <td>0.982322</td>\n",
              "      <td>1.093652</td>\n",
              "      <td>1.120123</td>\n",
              "      <td>2.201777</td>\n",
              "      <td>1.382118</td>\n",
              "      <td>1.037987</td>\n",
              "      <td>1.382118</td>\n",
              "      <td>0.344131</td>\n",
              "    </tr>\n",
              "    <tr>\n",
              "      <th>Alaska</th>\n",
              "      <td>57717.5</td>\n",
              "      <td>54748.1</td>\n",
              "      <td>53480.6</td>\n",
              "      <td>54015.3</td>\n",
              "      <td>53289.0</td>\n",
              "      <td>52825.9</td>\n",
              "      <td>52928.7</td>\n",
              "      <td>53255.2</td>\n",
              "      <td>-5.423750</td>\n",
              "      <td>-2.370018</td>\n",
              "      <td>0.989905</td>\n",
              "      <td>-1.362945</td>\n",
              "      <td>-0.876653</td>\n",
              "      <td>0.194224</td>\n",
              "      <td>0.613086</td>\n",
              "      <td>-1.866482</td>\n",
              "      <td>0.194224</td>\n",
              "      <td>2.060705</td>\n",
              "    </tr>\n",
              "    <tr>\n",
              "      <th>Arizona</th>\n",
              "      <td>268068.2</td>\n",
              "      <td>269967.4</td>\n",
              "      <td>274112.9</td>\n",
              "      <td>281935.6</td>\n",
              "      <td>291259.6</td>\n",
              "      <td>302117.8</td>\n",
              "      <td>314016.1</td>\n",
              "      <td>323597.6</td>\n",
              "      <td>0.703492</td>\n",
              "      <td>1.512333</td>\n",
              "      <td>2.774641</td>\n",
              "      <td>3.201268</td>\n",
              "      <td>3.594029</td>\n",
              "      <td>3.789073</td>\n",
              "      <td>2.960930</td>\n",
              "      <td>2.143487</td>\n",
              "      <td>3.594029</td>\n",
              "      <td>1.450542</td>\n",
              "    </tr>\n",
              "    <tr>\n",
              "      <th>...</th>\n",
              "      <td>...</td>\n",
              "      <td>...</td>\n",
              "      <td>...</td>\n",
              "      <td>...</td>\n",
              "      <td>...</td>\n",
              "      <td>...</td>\n",
              "      <td>...</td>\n",
              "      <td>...</td>\n",
              "      <td>...</td>\n",
              "      <td>...</td>\n",
              "      <td>...</td>\n",
              "      <td>...</td>\n",
              "      <td>...</td>\n",
              "      <td>...</td>\n",
              "      <td>...</td>\n",
              "      <td>...</td>\n",
              "      <td>...</td>\n",
              "      <td>...</td>\n",
              "    </tr>\n",
              "    <tr>\n",
              "      <th>West Virginia</th>\n",
              "      <td>69335.6</td>\n",
              "      <td>70121.2</td>\n",
              "      <td>69720.7</td>\n",
              "      <td>70332.7</td>\n",
              "      <td>69276.4</td>\n",
              "      <td>69743.2</td>\n",
              "      <td>71858.7</td>\n",
              "      <td>72340.4</td>\n",
              "      <td>1.120346</td>\n",
              "      <td>-0.574435</td>\n",
              "      <td>0.870150</td>\n",
              "      <td>-1.524762</td>\n",
              "      <td>0.669313</td>\n",
              "      <td>2.943972</td>\n",
              "      <td>0.665880</td>\n",
              "      <td>0.147858</td>\n",
              "      <td>0.669313</td>\n",
              "      <td>0.521455</td>\n",
              "    </tr>\n",
              "    <tr>\n",
              "      <th>Wisconsin</th>\n",
              "      <td>274540.5</td>\n",
              "      <td>275648.7</td>\n",
              "      <td>282031.2</td>\n",
              "      <td>288260.1</td>\n",
              "      <td>291320.5</td>\n",
              "      <td>294151.7</td>\n",
              "      <td>303767.4</td>\n",
              "      <td>308044.7</td>\n",
              "      <td>0.402033</td>\n",
              "      <td>2.263047</td>\n",
              "      <td>2.160861</td>\n",
              "      <td>1.050527</td>\n",
              "      <td>0.962497</td>\n",
              "      <td>3.165481</td>\n",
              "      <td>1.388532</td>\n",
              "      <td>1.605694</td>\n",
              "      <td>1.388532</td>\n",
              "      <td>-0.217162</td>\n",
              "    </tr>\n",
              "    <tr>\n",
              "      <th>Wyoming</th>\n",
              "      <td>38437.7</td>\n",
              "      <td>38523.2</td>\n",
              "      <td>38711.1</td>\n",
              "      <td>39899.0</td>\n",
              "      <td>38079.7</td>\n",
              "      <td>37866.3</td>\n",
              "      <td>38696.3</td>\n",
              "      <td>39214.0</td>\n",
              "      <td>0.221944</td>\n",
              "      <td>0.485390</td>\n",
              "      <td>2.977268</td>\n",
              "      <td>-4.777611</td>\n",
              "      <td>-0.563562</td>\n",
              "      <td>2.144908</td>\n",
              "      <td>1.320192</td>\n",
              "      <td>0.353667</td>\n",
              "      <td>1.320192</td>\n",
              "      <td>0.966524</td>\n",
              "    </tr>\n",
              "  </tbody>\n",
              "</table>\n",
              "<p>51 rows × 18 columns</p>\n",
              "</div>"
            ],
            "text/plain": [
              "                   2012      2013  ...  median_rep  median_diff\n",
              "GeoName                            ...                         \n",
              "Alabama        186553.9  188814.2  ...    1.382118     0.344131\n",
              "Alaska          57717.5   54748.1  ...    0.194224     2.060705\n",
              "Arizona        268068.2  269967.4  ...    3.594029     1.450542\n",
              "...                 ...       ...  ...         ...          ...\n",
              "West Virginia   69335.6   70121.2  ...    0.669313     0.521455\n",
              "Wisconsin      274540.5  275648.7  ...    1.388532    -0.217162\n",
              "Wyoming         38437.7   38523.2  ...    1.320192     0.966524\n",
              "\n",
              "[51 rows x 18 columns]"
            ]
          },
          "metadata": {
            "tags": []
          },
          "execution_count": 14
        }
      ]
    },
    {
      "cell_type": "code",
      "metadata": {
        "id": "H5rohjWDUdmr"
      },
      "source": [
        "# create column showing vote counts difference between 2016 and 2020 in each state\n",
        "\n",
        "# to be code..."
      ],
      "execution_count": null,
      "outputs": []
    },
    {
      "cell_type": "markdown",
      "metadata": {
        "id": "ekJ9BwwQpeku"
      },
      "source": [
        "## Visualization"
      ]
    },
    {
      "cell_type": "code",
      "metadata": {
        "id": "XQ8eDzlCO3Jy"
      },
      "source": [
        "df_vis = df.sort_values('median_diff', ascending=False)"
      ],
      "execution_count": 15,
      "outputs": []
    },
    {
      "cell_type": "code",
      "metadata": {
        "colab": {
          "base_uri": "https://localhost:8080/",
          "height": 736
        },
        "id": "4LXtTNo5plXh",
        "outputId": "bd7e5ec2-b7a8-458b-cad0-26a95ade8497"
      },
      "source": [
        "plt.figure(figsize=(12, 12))\n",
        "title = 'U.S. GDP growth difference in percent between Democrat(2013-2016) and Republican(2017-2019)'\n",
        "sns.barplot(y = df.index, x='median_diff', data = df_vis).set_title(title);"
      ],
      "execution_count": 16,
      "outputs": [
        {
          "output_type": "display_data",
          "data": {
            "image/png": "[encoded data removed]",
            "text/plain": [
              "<Figure size 864x864 with 1 Axes>"
            ]
          },
          "metadata": {
            "tags": []
          }
        }
      ]
    },
    {
      "cell_type": "code",
      "metadata": {
        "id": "XTSR2Axet52O"
      },
      "source": [
        ""
      ],
      "execution_count": null,
      "outputs": []
    },
    {
      "cell_type": "markdown",
      "metadata": {
        "id": "rMcBr02395fw"
      },
      "source": [
        "# Poverty"
      ]
    },
    {
      "cell_type": "code",
      "metadata": {
        "id": "1PinHdPQlCKJ"
      },
      "source": [
        ""
      ],
      "execution_count": null,
      "outputs": []
    },
    {
      "cell_type": "markdown",
      "metadata": {
        "id": "7LeS8UvWO-31"
      },
      "source": [
        "prepare data\n",
        "- ตามในโน๊ตพี่ benya\n"
      ]
    },
    {
      "cell_type": "code",
      "metadata": {
        "id": "aP9i7rS6PKW6"
      },
      "source": [
        ""
      ],
      "execution_count": null,
      "outputs": []
    },
    {
      "cell_type": "markdown",
      "metadata": {
        "id": "AqJMHcz_k_HU"
      },
      "source": [
        "# Master Summary"
      ]
    }
  ]
}